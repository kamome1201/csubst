{
 "cells": [
  {
   "cell_type": "code",
   "execution_count": 1,
   "metadata": {},
   "outputs": [],
   "source": [
    "%load_ext Cython\n",
    "%load_ext line_profiler\n",
    "import numpy\n",
    "import itertools\n",
    "import seaborn\n",
    "import pandas\n",
    "import statsmodels\n",
    "import statsmodels.api"
   ]
  },
  {
   "cell_type": "code",
   "execution_count": 2,
   "metadata": {},
   "outputs": [],
   "source": [
    "%%cython\n",
    "# cython: linetrace=True\n",
    "# cython: binding=True\n",
    "# distutils: define_macros=CYTHON_TRACE_NOGIL=1\n",
    "import numpy\n",
    "import cython\n",
    "import random\n",
    "from cython.parallel import prange\n",
    "cimport numpy as cnumpy\n",
    "cimport cython\n",
    "\n",
    "@cython.nonecheck(False)\n",
    "@cython.boundscheck(False)\n",
    "def get_permutations(long[:,:] cb_ids, long[:] sites, long[:] sub_branches, double[:] p, long niter):\n",
    "    cdef cnumpy.ndarray[cnumpy.uint8_t, ndim = 3, cast=True] ps\n",
    "    cdef cnumpy.ndarray[cnumpy.uint8_t, ndim = 2, cast=True] sub_bool_array\n",
    "    cdef long[:,:] num_shared_sub = numpy.zeros(shape=(cb_ids.shape[0], niter), dtype=numpy.long)\n",
    "    cdef long[:] num_shared_sub2 = numpy.zeros(shape=(niter), dtype=numpy.long)\n",
    "    cdef long size\n",
    "    cdef long prev\n",
    "    cdef long[:] site_indices\n",
    "    cdef Py_ssize_t i,j,s,b # Py_ssize_t is the proper C type for Python array indices.\n",
    "    ps = numpy.zeros(shape=(sub_branches.shape[0], niter, sites.shape[0]), dtype=numpy.bool_)\n",
    "    for i in range(sub_branches.shape[0]):\n",
    "        size = sub_branches[i]\n",
    "        if size!=0:\n",
    "            if size in sub_branches[:i]:\n",
    "                prev = numpy.arange(i)[numpy.equal(sub_branches[:i], size)][0]\n",
    "                ps[i,:,:] = ps[prev,numpy.random.permutation(numpy.arange(ps.shape[1])),:]\n",
    "            else:\n",
    "                for j in range(niter):\n",
    "                    site_indices = numpy.random.choice(a=sites, size=size, replace=False, p=p)\n",
    "                    ps[i,j,site_indices] = True\n",
    "    for i in range(cb_ids.shape[0]):\n",
    "        for b in range(cb_ids[i,:].shape[0]):\n",
    "            if cb_ids[i,b]==cb_ids[i,0]:\n",
    "                sub_bool_array = ps[cb_ids[i,b],:,:].copy()\n",
    "            else:\n",
    "                sub_bool_array *= ps[cb_ids[i,b],:,:]\n",
    "        num_shared_sub2 = sub_bool_array.sum(axis=1)\n",
    "        num_shared_sub[i,:] = num_shared_sub2\n",
    "    return numpy.asarray(num_shared_sub)\n"
   ]
  },
  {
   "cell_type": "code",
   "execution_count": 15,
   "metadata": {},
   "outputs": [],
   "source": [
    "sites = numpy.arange(100)\n",
    "sub_branches = numpy.random.choice([0,5,10,20], 100)\n",
    "p = numpy.arange(sites.shape[0])+10\n",
    "p = p/p.sum()\n",
    "niter = 100\n",
    "cb_ids = numpy.array(list(itertools.combinations(numpy.arange(sub_branches.shape[0]), 2)), dtype=numpy.int64)\n",
    "\n",
    "hoge = get_permutations(cb_ids, sites, sub_branches, p, niter)"
   ]
  },
  {
   "cell_type": "code",
   "execution_count": 27,
   "metadata": {},
   "outputs": [
    {
     "name": "stdout",
     "output_type": "stream",
     "text": [
      "381 ms ± 85.4 ms per loop (mean ± std. dev. of 7 runs, 1 loop each)\n",
      "172 ms ± 13.2 ms per loop (mean ± std. dev. of 7 runs, 10 loops each)\n",
      "309 ms ± 16.3 ms per loop (mean ± std. dev. of 7 runs, 1 loop each)\n",
      "173 ms ± 16 ms per loop (mean ± std. dev. of 7 runs, 10 loops each)\n",
      "298 ms ± 1.18 ms per loop (mean ± std. dev. of 7 runs, 1 loop each)\n",
      "158 ms ± 717 µs per loop (mean ± std. dev. of 7 runs, 10 loops each)\n"
     ]
    }
   ],
   "source": [
    "sites = numpy.arange(100)\n",
    "sub_branches = numpy.random.choice([0,5,10,20], 100)\n",
    "p = numpy.arange(sites.shape[0])+10\n",
    "p = p/p.sum()\n",
    "niter = 100\n",
    "cb_ids = numpy.array(list(itertools.combinations(numpy.arange(sub_branches.shape[0]), 2)), dtype=numpy.int64)\n",
    "\n",
    "%timeit hoge = get_permutations(cb_ids, sites, sub_branches, p, niter)\n",
    "#%timeit hoge = get_permutations2(cb_ids, sites, sub_branches, p, niter)\n",
    "%timeit hoge = get_permutations(cb_ids, sites, sub_branches, p, niter)\n",
    "#%timeit hoge = get_permutations2(cb_ids, sites, sub_branches, p, niter)\n",
    "%timeit hoge = get_permutations(cb_ids, sites, sub_branches, p, niter)\n",
    "#%timeit hoge = get_permutations2(cb_ids, sites, sub_branches, p, niter)"
   ]
  },
  {
   "cell_type": "code",
   "execution_count": null,
   "metadata": {},
   "outputs": [],
   "source": []
  },
  {
   "cell_type": "code",
   "execution_count": 49,
   "metadata": {},
   "outputs": [
    {
     "name": "stdout",
     "output_type": "stream",
     "text": [
      "Kamesan: Probability of k=1 is 0.4114285714285715\n",
      "Permutation: Probability of k=0 is 0.0\n",
      "Permutation: Probability of k=1 is 0.36762\n",
      "Permutation: Probability of k=2 is 0.63238\n",
      "Permutation: Probability of k=3 is 0.0\n",
      "Permutation: Probability of k=4 is 0.0\n"
     ]
    }
   ],
   "source": [
    "L = numpy.arange(4) # stone labels (0,1,2,3)\n",
    "MN = numpy.array([2,3]) # M and N\n",
    "cb_ids = numpy.expand_dims(numpy.arange(MN.shape[0]), axis=0)\n",
    "p = numpy.array([0.1,0.2,0.3,0.4,]) # stone frequencies\n",
    "#p = numpy.array([0.25,0.25,0.25,0.25]) # stone frequencies\n",
    "niter = 10000 # Number of permutations\n",
    "\n",
    "# Kamesan method\n",
    "X = sum([ numpy.array(probs).prod() for probs in list(itertools.combinations(p, MN[0])) ])\n",
    "Y = sum([ numpy.array(probs).prod() for probs in list(itertools.combinations(p, MN[1])) ])\n",
    "Z = X * Y\n",
    "P_k1 = (1/Z)*(3*p.prod())*(p.sum())\n",
    "print('Kamesan: Probability of k={} is {}'.format(1,P_k1))\n",
    "\n",
    "# Simulation\n",
    "out = get_permutations(cb_ids, L, MN, p, niter)\n",
    "for i in [0,1,2,3,4]:\n",
    "    prob = (out==i).sum()/niter\n",
    "    print('Permutation: Probability of k={} is {}'.format(i,prob))"
   ]
  },
  {
   "cell_type": "code",
   "execution_count": 28,
   "metadata": {},
   "outputs": [
    {
     "data": {
      "text/plain": [
       "Timer unit: 1e-06 s\n",
       "\n",
       "Total time: 0.290278 s\n",
       "File: /Users/kf/.ipython/cython/_cython_magic_6fbd1904e2109f3e00b755ab151924b2.pyx\n",
       "Function: get_permutations2 at line 40\n",
       "\n",
       "Line #      Hits         Time  Per Hit   % Time  Line Contents\n",
       "==============================================================\n",
       "    40                                           def get_permutations2(long[:,:] cb_ids, long[:] sites, long[:] sub_branches, double[:] p, long niter):\n",
       "    41                                               cdef cnumpy.ndarray[cnumpy.uint8_t, ndim = 3, cast=True] ps\n",
       "    42                                               cdef cnumpy.ndarray[cnumpy.uint8_t, ndim = 2, cast=True] sub_bool_array\n",
       "    43         1        381.0    381.0      0.1      cdef long[:,:] num_shared_sub = numpy.zeros(shape=(cb_ids.shape[0], niter), dtype=numpy.long)\n",
       "    44         1         17.0     17.0      0.0      cdef long[:] num_shared_sub2 = numpy.zeros(shape=(niter), dtype=numpy.long)\n",
       "    45                                               cdef long size\n",
       "    46                                               cdef long prev\n",
       "    47                                               cdef long[:] site_indices\n",
       "    48                                               cdef Py_ssize_t i,j,s,b # Py_ssize_t is the proper C type for Python array indices.\n",
       "    49         1        176.0    176.0      0.1      ps = numpy.zeros(shape=(sub_branches.shape[0], niter, sites.shape[0]), dtype=numpy.bool_)\n",
       "    50         1          2.0      2.0      0.0      for i in range(sub_branches.shape[0]):\n",
       "    51       100         39.0      0.4      0.0          size = sub_branches[i]\n",
       "    52       100         33.0      0.3      0.0          if size!=0:\n",
       "    53        72       1279.0     17.8      0.4              if size in sub_branches[:i]:\n",
       "    54        69       1099.0     15.9      0.4                  prev = numpy.arange(i)[numpy.equal(sub_branches[:i], size)][0]\n",
       "    55        69       1329.0     19.3      0.5                  ps[i,:,:] = ps[prev,numpy.random.permutation(numpy.arange(ps.shape[1])),:]\n",
       "    56                                                       else:\n",
       "    57         3          2.0      0.7      0.0                  for j in range(niter):\n",
       "    58       300      87632.0    292.1     30.2                      site_indices = numpy.random.choice(a=sites, size=size, replace=False, p=p)\n",
       "    59       300       7632.0     25.4      2.6                      ps[i,j,site_indices] = True\n",
       "    60         1          0.0      0.0      0.0      for i in range(cb_ids.shape[0]):\n",
       "    61      4950       1966.0      0.4      0.7          for b in range(cb_ids[i,:].shape[0]):\n",
       "    62      9900       3796.0      0.4      1.3              if cb_ids[i,b]==cb_ids[i,0]:\n",
       "    63      4950      10822.0      2.2      3.7                  sub_bool_array = ps[cb_ids[i,b],:,:]\n",
       "    64                                                       else:\n",
       "    65      4950      24168.0      4.9      8.3                  sub_bool_array *= ps[cb_ids[i,b],:,:]\n",
       "    66      4950     123234.0     24.9     42.5          num_shared_sub2 = sub_bool_array.sum(axis=1)\n",
       "    67      4950      26631.0      5.4      9.2          num_shared_sub[i,:] = num_shared_sub2\n",
       "    68         1         40.0     40.0      0.0      return numpy.asarray(num_shared_sub)"
      ]
     },
     "metadata": {},
     "output_type": "display_data"
    }
   ],
   "source": [
    "def get_permutations2_days_sentinel():\n",
    "    pass\n",
    "\n",
    "%lprun -f get_permutations2 get_permutations2(cb_ids, sites, sub_branches, p, niter)"
   ]
  },
  {
   "cell_type": "code",
   "execution_count": 29,
   "metadata": {},
   "outputs": [
    {
     "data": {
      "text/plain": [
       "<matplotlib.axes._subplots.AxesSubplot at 0x11ac55250>"
      ]
     },
     "execution_count": 29,
     "metadata": {},
     "output_type": "execute_result"
    },
    {
     "data": {
      "image/png": "[encoded data removed]",
      "text/plain": [
       "<Figure size 432x288 with 1 Axes>"
      ]
     },
     "metadata": {
      "needs_background": "light"
     },
     "output_type": "display_data"
    }
   ],
   "source": [
    "dfq = get_permutations(cb_ids, sites, sub_branches+50, p, niter=1000)\n",
    "seaborn.distplot(dfq[0,:])"
   ]
  },
  {
   "cell_type": "code",
   "execution_count": 30,
   "metadata": {},
   "outputs": [
    {
     "name": "stdout",
     "output_type": "stream",
     "text": [
      "311376402.79534876 -42761.464505731135 0.0001374299315335842\n"
     ]
    }
   ],
   "source": [
    "import scipy\n",
    "fit_alpha, fit_loc, fit_beta = scipy.stats.gamma.fit(dfq[0,:])\n",
    "print(fit_alpha, fit_loc, fit_beta)"
   ]
  },
  {
   "cell_type": "code",
   "execution_count": 37,
   "metadata": {},
   "outputs": [
    {
     "data": {
      "text/plain": [
       "0.243"
      ]
     },
     "execution_count": 37,
     "metadata": {},
     "output_type": "execute_result"
    }
   ],
   "source": [
    "a = numpy.random.choice([0,10,20,30], 1000)\n",
    "v = 30\n",
    "(a>=v).sum() / len(a)"
   ]
  },
  {
   "cell_type": "code",
   "execution_count": 56,
   "metadata": {},
   "outputs": [
    {
     "name": "stderr",
     "output_type": "stream",
     "text": [
      "/Users/kf/miniconda3/lib/python3.7/site-packages/ipykernel_launcher.py:5: DeprecationWarning: Calling Family(..) with a link class as argument is deprecated.\n",
      "Use an instance of a link class instead.\n",
      "  \"\"\"\n",
      "/Users/kf/miniconda3/lib/python3.7/site-packages/statsmodels/genmod/generalized_linear_model.py:278: DomainWarning: The log link function does not respect the domain of the Binomial family.\n",
      "  DomainWarning)\n"
     ]
    },
    {
     "data": {
      "text/plain": [
       "<statsmodels.genmod.generalized_linear_model.GLMResultsWrapper at 0x118391a50>"
      ]
     },
     "execution_count": 56,
     "metadata": {},
     "output_type": "execute_result"
    }
   ],
   "source": [
    "x = 'x'\n",
    "y = 'y'\n",
    "df = pandas.DataFrame({y:dfq[0,:], x:numpy.ones_like(dfq[0,:])})\n",
    "glm_formula = y+\" ~ \"+x\n",
    "reg_family = family=statsmodels.api.families.Binomial(link=statsmodels.api.families.links.log)\n",
    "mod = statsmodels.formula.api.glm(formula=glm_formula, data=df, family=reg_family)\n",
    "res = mod.fit()\n",
    "res"
   ]
  },
  {
   "cell_type": "code",
   "execution_count": 57,
   "metadata": {},
   "outputs": [
    {
     "data": {
      "text/html": [
       "<table class=\"simpletable\">\n",
       "<caption>Generalized Linear Model Regression Results</caption>\n",
       "<tr>\n",
       "  <th>Dep. Variable:</th>           <td>y</td>        <th>  No. Observations:  </th>  <td>  1000</td> \n",
       "</tr>\n",
       "<tr>\n",
       "  <th>Model:</th>                  <td>GLM</td>       <th>  Df Residuals:      </th>  <td>   999</td> \n",
       "</tr>\n",
       "<tr>\n",
       "  <th>Model Family:</th>        <td>Binomial</td>     <th>  Df Model:          </th>  <td>     0</td> \n",
       "</tr>\n",
       "<tr>\n",
       "  <th>Link Function:</th>          <td>log</td>       <th>  Scale:             </th> <td>  1.0000</td>\n",
       "</tr>\n",
       "<tr>\n",
       "  <th>Method:</th>                <td>IRLS</td>       <th>  Log-Likelihood:    </th> <td>     nan</td>\n",
       "</tr>\n",
       "<tr>\n",
       "  <th>Date:</th>            <td>Mon, 09 Mar 2020</td> <th>  Deviance:          </th> <td> -6.7696</td>\n",
       "</tr>\n",
       "<tr>\n",
       "  <th>Time:</th>                <td>03:54:31</td>     <th>  Pearson chi2:      </th> <td>2.80e+19</td>\n",
       "</tr>\n",
       "<tr>\n",
       "  <th>No. Iterations:</th>          <td>8</td>        <th>                     </th>     <td> </td>   \n",
       "</tr>\n",
       "<tr>\n",
       "  <th>Covariance Type:</th>     <td>nonrobust</td>    <th>                     </th>     <td> </td>   \n",
       "</tr>\n",
       "</table>\n",
       "<table class=\"simpletable\">\n",
       "<tr>\n",
       "      <td></td>         <th>coef</th>     <th>std err</th>      <th>z</th>      <th>P>|z|</th>  <th>[0.025</th>    <th>0.975]</th>  \n",
       "</tr>\n",
       "<tr>\n",
       "  <th>Intercept</th> <td> 1.414e+11</td> <td> 2162.231</td> <td> 6.54e+07</td> <td> 0.000</td> <td> 1.41e+11</td> <td> 1.41e+11</td>\n",
       "</tr>\n",
       "<tr>\n",
       "  <th>x</th>         <td>-1.414e+11</td> <td> 2162.231</td> <td>-6.54e+07</td> <td> 0.000</td> <td>-1.41e+11</td> <td>-1.41e+11</td>\n",
       "</tr>\n",
       "</table>"
      ],
      "text/plain": [
       "<class 'statsmodels.iolib.summary.Summary'>\n",
       "\"\"\"\n",
       "                 Generalized Linear Model Regression Results                  \n",
       "==============================================================================\n",
       "Dep. Variable:                      y   No. Observations:                 1000\n",
       "Model:                            GLM   Df Residuals:                      999\n",
       "Model Family:                Binomial   Df Model:                            0\n",
       "Link Function:                    log   Scale:                          1.0000\n",
       "Method:                          IRLS   Log-Likelihood:                    nan\n",
       "Date:                Mon, 09 Mar 2020   Deviance:                      -6.7696\n",
       "Time:                        03:54:31   Pearson chi2:                 2.80e+19\n",
       "No. Iterations:                     8                                         \n",
       "Covariance Type:            nonrobust                                         \n",
       "==============================================================================\n",
       "                 coef    std err          z      P>|z|      [0.025      0.975]\n",
       "------------------------------------------------------------------------------\n",
       "Intercept   1.414e+11   2162.231   6.54e+07      0.000    1.41e+11    1.41e+11\n",
       "x          -1.414e+11   2162.231  -6.54e+07      0.000   -1.41e+11   -1.41e+11\n",
       "==============================================================================\n",
       "\"\"\""
      ]
     },
     "execution_count": 57,
     "metadata": {},
     "output_type": "execute_result"
    }
   ],
   "source": [
    "res.summary()"
   ]
  },
  {
   "cell_type": "code",
   "execution_count": 52,
   "metadata": {},
   "outputs": [
    {
     "name": "stderr",
     "output_type": "stream",
     "text": [
      "/Users/kf/miniconda3/lib/python3.7/site-packages/statsmodels/base/model.py:1362: RuntimeWarning: invalid value encountered in true_divide\n",
      "  return self.params / self.bse\n",
      "/Users/kf/miniconda3/lib/python3.7/site-packages/scipy/stats/_distn_infrastructure.py:877: RuntimeWarning: invalid value encountered in greater\n",
      "  return (self.a < x) & (x < self.b)\n",
      "/Users/kf/miniconda3/lib/python3.7/site-packages/scipy/stats/_distn_infrastructure.py:877: RuntimeWarning: invalid value encountered in less\n",
      "  return (self.a < x) & (x < self.b)\n",
      "/Users/kf/miniconda3/lib/python3.7/site-packages/scipy/stats/_distn_infrastructure.py:1831: RuntimeWarning: invalid value encountered in less_equal\n",
      "  cond2 = cond0 & (x <= self.a)\n"
     ]
    },
    {
     "data": {
      "text/html": [
       "<table class=\"simpletable\">\n",
       "<caption>Generalized Linear Model Regression Results</caption>\n",
       "<tr>\n",
       "  <th>Dep. Variable:</th>           <td>y</td>        <th>  No. Observations:  </th>  <td>  1000</td> \n",
       "</tr>\n",
       "<tr>\n",
       "  <th>Model:</th>                  <td>GLM</td>       <th>  Df Residuals:      </th>  <td>   999</td> \n",
       "</tr>\n",
       "<tr>\n",
       "  <th>Model Family:</th>         <td>Poisson</td>     <th>  Df Model:          </th>  <td>     0</td> \n",
       "</tr>\n",
       "<tr>\n",
       "  <th>Link Function:</th>          <td>log</td>       <th>  Scale:             </th> <td>  1.0000</td>\n",
       "</tr>\n",
       "<tr>\n",
       "  <th>Method:</th>                <td>IRLS</td>       <th>  Log-Likelihood:    </th> <td> -2731.9</td>\n",
       "</tr>\n",
       "<tr>\n",
       "  <th>Date:</th>            <td>Mon, 09 Mar 2020</td> <th>  Deviance:          </th> <td>  190.42</td>\n",
       "</tr>\n",
       "<tr>\n",
       "  <th>Time:</th>                <td>03:53:35</td>     <th>  Pearson chi2:      </th>  <td>  190.</td> \n",
       "</tr>\n",
       "<tr>\n",
       "  <th>No. Iterations:</th>          <td>3</td>        <th>                     </th>     <td> </td>   \n",
       "</tr>\n",
       "<tr>\n",
       "  <th>Covariance Type:</th>     <td>nonrobust</td>    <th>                     </th>     <td> </td>   \n",
       "</tr>\n",
       "</table>\n",
       "<table class=\"simpletable\">\n",
       "<tr>\n",
       "      <td></td>         <th>coef</th>     <th>std err</th>      <th>z</th>      <th>P>|z|</th>  <th>[0.025</th>    <th>0.975]</th>  \n",
       "</tr>\n",
       "<tr>\n",
       "  <th>Intercept</th> <td>    3.4331</td> <td>    0.006</td> <td>  604.215</td> <td> 0.000</td> <td>    3.422</td> <td>    3.444</td>\n",
       "</tr>\n",
       "<tr>\n",
       "  <th>x</th>         <td>         0</td> <td>        0</td> <td>      nan</td> <td>   nan</td> <td>        0</td> <td>        0</td>\n",
       "</tr>\n",
       "</table>"
      ],
      "text/plain": [
       "<class 'statsmodels.iolib.summary.Summary'>\n",
       "\"\"\"\n",
       "                 Generalized Linear Model Regression Results                  \n",
       "==============================================================================\n",
       "Dep. Variable:                      y   No. Observations:                 1000\n",
       "Model:                            GLM   Df Residuals:                      999\n",
       "Model Family:                 Poisson   Df Model:                            0\n",
       "Link Function:                    log   Scale:                          1.0000\n",
       "Method:                          IRLS   Log-Likelihood:                -2731.9\n",
       "Date:                Mon, 09 Mar 2020   Deviance:                       190.42\n",
       "Time:                        03:53:35   Pearson chi2:                     190.\n",
       "No. Iterations:                     3                                         \n",
       "Covariance Type:            nonrobust                                         \n",
       "==============================================================================\n",
       "                 coef    std err          z      P>|z|      [0.025      0.975]\n",
       "------------------------------------------------------------------------------\n",
       "Intercept      3.4331      0.006    604.215      0.000       3.422       3.444\n",
       "x                   0          0        nan        nan           0           0\n",
       "==============================================================================\n",
       "\"\"\""
      ]
     },
     "execution_count": 52,
     "metadata": {},
     "output_type": "execute_result"
    }
   ],
   "source": [
    "res.summary()"
   ]
  },
  {
   "cell_type": "code",
   "execution_count": null,
   "metadata": {},
   "outputs": [],
   "source": []
  }
 ],
 "metadata": {
  "kernelspec": {
   "display_name": "Python 3",
   "language": "python",
   "name": "python3"
  },
  "language_info": {
   "codemirror_mode": {
    "name": "ipython",
    "version": 3
   },
   "file_extension": ".py",
   "mimetype": "text/x-python",
   "name": "python",
   "nbconvert_exporter": "python",
   "pygments_lexer": "ipython3",
   "version": "3.6.7"
  }
 },
 "nbformat": 4,
 "nbformat_minor": 4
}
